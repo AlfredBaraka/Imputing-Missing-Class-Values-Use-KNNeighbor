{
 "cells": [
  {
   "cell_type": "code",
   "execution_count": 24,
   "id": "016546f1-521c-4b94-8908-9506d982003c",
   "metadata": {},
   "outputs": [
    {
     "data": {
      "text/plain": [
       "array([[ 0.  ,  2.1 ,  1.45],\n",
       "       [ 1.  ,  1.18,  1.33],\n",
       "       [ 0.  ,  1.22,  1.27],\n",
       "       [ 1.  , -0.21, -1.19],\n",
       "       [ 0.  ,  0.87,  1.31],\n",
       "       [ 1.  , -0.67, -0.22]])"
      ]
     },
     "execution_count": 24,
     "metadata": {},
     "output_type": "execute_result"
    }
   ],
   "source": [
    "# load library\n",
    "import numpy as np\n",
    "from sklearn.neighbors import KNeighborsClassifier\n",
    "\n",
    "# create a learning data\n",
    "X = np.array([[0, 2.10, 1.45],\n",
    "[1, 1.18, 1.33],\n",
    "[0, 1.22, 1.27],\n",
    "[1, -0.21, -1.19]])\n",
    "\n",
    "# create a need to be predicted data\n",
    "X_with_nan = np.array([[np.nan, 0.87, 1.31],\n",
    "[np.nan, -0.67, -0.22]])\n",
    "\n",
    "# Train Knn learner\n",
    "clf = KNeighborsClassifier(3, weights=\"distance\")\n",
    "trained_model = clf.fit(X[:,1:], X[:,0])\n",
    "\n",
    "# Predict missing value\n",
    "imputed_values = trained_model.predict(X_with_nan[:,1:])\n",
    "\n",
    "# Join column\n",
    "X_with_imputed = np.hstack((imputed_values.reshape(-1, 1), X_with_nan[:, 1:]))\n",
    "X_with_imputed \n",
    "\n",
    "full_features = np.vstack((X, X_with_imputed ))\n",
    "full_features"
   ]
  },
  {
   "cell_type": "markdown",
   "id": "520a5c26-ea09-43bf-979d-7c0512a0ddc6",
   "metadata": {},
   "source": [
    "#### POP OUT !!!!\n",
    "------"
   ]
  },
  {
   "cell_type": "raw",
   "id": "62948ad0-09a5-4aff-a310-3dafad7a70b1",
   "metadata": {},
   "source": []
  }
 ],
 "metadata": {
  "kernelspec": {
   "display_name": "Python 3 (ipykernel)",
   "language": "python",
   "name": "python3"
  },
  "language_info": {
   "codemirror_mode": {
    "name": "ipython",
    "version": 3
   },
   "file_extension": ".py",
   "mimetype": "text/x-python",
   "name": "python",
   "nbconvert_exporter": "python",
   "pygments_lexer": "ipython3",
   "version": "3.12.1"
  }
 },
 "nbformat": 4,
 "nbformat_minor": 5
}
