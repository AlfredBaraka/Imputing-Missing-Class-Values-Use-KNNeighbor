{
 "cells": [
  {
   "cell_type": "code",
   "execution_count": 4,
   "id": "016546f1-521c-4b94-8908-9506d982003c",
   "metadata": {},
   "outputs": [
    {
     "data": {
      "text/plain": [
       "array([[ 0.  ,  2.1 ,  1.45],\n",
       "       [ 1.  ,  1.18,  1.33],\n",
       "       [ 0.  ,  1.22,  1.27],\n",
       "       [ 1.  , -0.21, -1.19],\n",
       "       [ 0.  ,  0.87,  1.31],\n",
       "       [ 1.  , -0.67, -0.22]])"
      ]
     },
     "execution_count": 4,
     "metadata": {},
     "output_type": "execute_result"
    }
   ],
   "source": [
    "# load library\n",
    "import numpy as np\n",
    "from sklearn.neighbors import KNeighborsClassifier\n",
    "from sklearn.metrics import accuracy_score\n",
    "\n",
    "# create a learning data\n",
    "X = np.array([[0, 2.10, 1.45],\n",
    "[1, 1.18, 1.33],\n",
    "[0, 1.22, 1.27],\n",
    "[1, -0.21, -1.19]])\n",
    "\n",
    "# create a need to be predicted data\n",
    "X_with_nan = np.array([[np.nan, 0.87, 1.31],\n",
    "[np.nan, -0.67, -0.22]])\n",
    "\n",
    "# Train Knn learner\n",
    "clf = KNeighborsClassifier(3, weights=\"distance\")\n",
    "trained_model = clf.fit(X[:,1:], X[:,0])\n",
    "\n",
    "# Predict missing value\n",
    "imputed_values = trained_model.predict(X_with_nan[:,1:])\n",
    "\n",
    "# Join column\n",
    "X_with_imputed = np.hstack((imputed_values.reshape(-1, 1), X_with_nan[:, 1:]))\n",
    "X_with_imputed \n",
    "\n",
    "full_features = np.vstack((X, X_with_imputed ))\n",
    "full_features"
   ]
  },
  {
   "cell_type": "markdown",
   "id": "520a5c26-ea09-43bf-979d-7c0512a0ddc6",
   "metadata": {},
   "source": [
    "#### POP OUT !!!!\n",
    "------"
   ]
  },
  {
   "cell_type": "code",
   "execution_count": 2,
   "id": "fca6405d-4e7f-4b16-be6d-a25f0018da50",
   "metadata": {},
   "outputs": [
    {
     "name": "stdout",
     "output_type": "stream",
     "text": [
      "Full dataset with imputed values:\n",
      " [[ 0.    2.1   1.45]\n",
      " [ 1.    1.18  1.33]\n",
      " [ 0.    1.22  1.27]\n",
      " [ 1.   -0.21 -1.19]\n",
      " [ 0.    0.87  1.31]\n",
      " [ 1.   -0.67 -0.22]]\n"
     ]
    }
   ],
   "source": [
    "print(\"Full dataset with imputed values:\\n\", full_features)"
   ]
  },
  {
   "cell_type": "code",
   "execution_count": 5,
   "id": "6c09ee2b-6b51-426e-a4e2-22226bce0e6b",
   "metadata": {},
   "outputs": [
    {
     "name": "stdout",
     "output_type": "stream",
     "text": [
      "\n",
      "Imputed Accuracy: 1.0\n"
     ]
    }
   ],
   "source": [
    "# Evaluate accuracy of imputation (if true labels are available)\n",
    "# True labels for X_with_nan: [0, 1]\n",
    "true_labels = np.array([0, 1])\n",
    "imputed_accuracy = accuracy_score(true_labels, imputed_values)\n",
    "print(\"\\nImputed Accuracy:\", imputed_accuracy)"
   ]
  },
  {
   "cell_type": "code",
   "execution_count": null,
   "id": "5d89ef31-c8a4-4d9c-beda-5affd54ba25a",
   "metadata": {},
   "outputs": [],
   "source": []
  }
 ],
 "metadata": {
  "kernelspec": {
   "display_name": "Python 3 (ipykernel)",
   "language": "python",
   "name": "python3"
  },
  "language_info": {
   "codemirror_mode": {
    "name": "ipython",
    "version": 3
   },
   "file_extension": ".py",
   "mimetype": "text/x-python",
   "name": "python",
   "nbconvert_exporter": "python",
   "pygments_lexer": "ipython3",
   "version": "3.12.1"
  }
 },
 "nbformat": 4,
 "nbformat_minor": 5
}
